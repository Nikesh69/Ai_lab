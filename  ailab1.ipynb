{
 "cells": [
  {
   "cell_type": "markdown",
   "id": "ec7be3ec-4343-499b-a524-e9b3f7ae5054",
   "metadata": {},
   "source": [
    "## 1. Write a program to find prime number with in a range using function."
   ]
  },
  {
   "cell_type": "code",
   "execution_count": 1,
   "id": "ee2b792c-1527-4278-8fbb-983df91305fc",
   "metadata": {},
   "outputs": [
    {
     "name": "stdin",
     "output_type": "stream",
     "text": [
      "Enter the starting number:: 12\n",
      "Enter the end number:: 40\n"
     ]
    },
    {
     "name": "stdout",
     "output_type": "stream",
     "text": [
      "Prime numbers between 12 and 40 are: [13, 17, 19, 23, 29, 31, 37]\n"
     ]
    }
   ],
   "source": [
    "\n",
    "def is_prime(n):\n",
    "    \"\"\"Check if a number is prime.\"\"\"\n",
    "    if n <= 1:\n",
    "        return False\n",
    "    if n == 2:\n",
    "        return True\n",
    "    if n % 2 == 0:\n",
    "        return False\n",
    "    for i in range(3, int(n**0.5) + 1, 2):\n",
    "        if n % i == 0:\n",
    "            return False\n",
    "    return True\n",
    "\n",
    "def find_primes_in_range(start, end):\n",
    "    \"\"\"Find all prime numbers within a given range.\"\"\"\n",
    "    primes = []\n",
    "    for num in range(start, end + 1):\n",
    "        if is_prime(num):\n",
    "            primes.append(num)\n",
    "    return primes\n",
    "\n",
    " \n",
    "start = int(input(\"Enter the starting number::\"))\n",
    "end = int(input(\"Enter the end number::\"))\n",
    "\n",
    "\n",
    "prime_numbers = find_primes_in_range(start, end)\n",
    "print(f\"Prime numbers between {start} and {end} are: {prime_numbers}\")\n"
   ]
  },
  {
   "cell_type": "markdown",
   "id": "8d92f0af-4f93-4abf-811e-1b0ff3307fd9",
   "metadata": {},
   "source": [
    "## 2. Write a program to check palindrome."
   ]
  },
  {
   "cell_type": "code",
   "execution_count": 3,
   "id": "511e0a05-247b-48af-a984-622b3ca3aaf3",
   "metadata": {},
   "outputs": [
    {
     "name": "stdin",
     "output_type": "stream",
     "text": [
      "Enter a string to check if it's a palindrome:  4\n"
     ]
    },
    {
     "name": "stdout",
     "output_type": "stream",
     "text": [
      "'4' is a palindrome.\n"
     ]
    }
   ],
   "source": [
    " \n",
    "def is_palindrome(s):\n",
    "    \"\"\"Check if a given string is a palindrome.\"\"\"\n",
    "    \n",
    "    cleaned_s = s.replace(\" \", \"\").lower()\n",
    "     \n",
    "    return cleaned_s == cleaned_s[::-1]\n",
    " \n",
    "input_string = input(\"Enter a string to check if it's a palindrome: \")\n",
    "\n",
    " \n",
    "if is_palindrome(input_string):\n",
    "    print(f\"'{input_string}' is a palindrome.\")\n",
    "else:\n",
    "    print(f\"'{input_string}' is not a palindrome.\")"
   ]
  },
  {
   "cell_type": "markdown",
   "id": "50ef4bcc-86cd-4c8d-ba7e-1e12917d7d6a",
   "metadata": {},
   "source": [
    "## 3. Write a program to generate the Fibonacci sequence of a given number."
   ]
  },
  {
   "cell_type": "code",
   "execution_count": 4,
   "id": "02bcf8cd-81f9-4231-a5ef-0ad7b4cc235e",
   "metadata": {},
   "outputs": [
    {
     "name": "stdin",
     "output_type": "stream",
     "text": [
      "Enter the number of Fibonacci numbers to generate:  12\n"
     ]
    },
    {
     "name": "stdout",
     "output_type": "stream",
     "text": [
      "The first 12 numbers in the Fibonacci sequence are:\n",
      "[0, 1, 1, 2, 3, 5, 8, 13, 21, 34, 55, 89]\n"
     ]
    }
   ],
   "source": [
    "\n",
    "def fibonacci(n):\n",
    "    sequence = []\n",
    "    a, b = 0, 1\n",
    "    while len(sequence) < n:\n",
    "        sequence.append(a)\n",
    "        a, b = b, a + b\n",
    "    return sequence\n",
    "\n",
    " \n",
    "num = int(input(\"Enter the number of Fibonacci numbers to generate: \"))\n",
    "\n",
    " \n",
    "fib_sequence = fibonacci(num)\n",
    "print(f\"The first {num} numbers in the Fibonacci sequence are:\")\n",
    "print(fib_sequence)"
   ]
  },
  {
   "cell_type": "markdown",
   "id": "56a4e115-de77-4e0b-a47b-b4a508e3697e",
   "metadata": {},
   "source": [
    "## 4. Create a number guessing game. Where you have to generate a random number in between 1 to 100 and user have to prompt a number for guess. if its high or low number let the user know and guide them through the process to guess correct number."
   ]
  },
  {
   "cell_type": "code",
   "execution_count": 5,
   "id": "e5633e7b-51f5-4301-b37e-2c51ae55cce3",
   "metadata": {},
   "outputs": [
    {
     "name": "stdout",
     "output_type": "stream",
     "text": [
      "Welcome to the Number Guessing Game!\n",
      "I have chosen a number between 1 and 100. Can you guess it?\n"
     ]
    },
    {
     "name": "stdin",
     "output_type": "stream",
     "text": [
      "Enter your guess:  50\n"
     ]
    },
    {
     "name": "stdout",
     "output_type": "stream",
     "text": [
      "Too high! Try again.\n"
     ]
    },
    {
     "name": "stdin",
     "output_type": "stream",
     "text": [
      "Enter your guess:  30\n"
     ]
    },
    {
     "name": "stdout",
     "output_type": "stream",
     "text": [
      "Too low! Try again.\n"
     ]
    },
    {
     "name": "stdin",
     "output_type": "stream",
     "text": [
      "Enter your guess:  40\n"
     ]
    },
    {
     "name": "stdout",
     "output_type": "stream",
     "text": [
      "Too low! Try again.\n"
     ]
    },
    {
     "name": "stdin",
     "output_type": "stream",
     "text": [
      "Enter your guess:  45\n"
     ]
    },
    {
     "name": "stdout",
     "output_type": "stream",
     "text": [
      "Too high! Try again.\n"
     ]
    },
    {
     "name": "stdin",
     "output_type": "stream",
     "text": [
      "Enter your guess:  42\n"
     ]
    },
    {
     "name": "stdout",
     "output_type": "stream",
     "text": [
      "Too low! Try again.\n"
     ]
    },
    {
     "name": "stdin",
     "output_type": "stream",
     "text": [
      "Enter your guess:  41\n"
     ]
    },
    {
     "name": "stdout",
     "output_type": "stream",
     "text": [
      "Too low! Try again.\n"
     ]
    },
    {
     "name": "stdin",
     "output_type": "stream",
     "text": [
      "Enter your guess:  44\n"
     ]
    },
    {
     "name": "stdout",
     "output_type": "stream",
     "text": [
      "Too high! Try again.\n"
     ]
    },
    {
     "name": "stdin",
     "output_type": "stream",
     "text": [
      "Enter your guess:  43\n"
     ]
    },
    {
     "name": "stdout",
     "output_type": "stream",
     "text": [
      "Congratulations! You guessed the correct number!\n"
     ]
    }
   ],
   "source": [
    "  \n",
    "import random\n",
    "number_to_guess = random.randint(1, 100)\n",
    "print(\"Welcome to the Number Guessing Game!\")\n",
    "print(\"I have chosen a number between 1 and 100. Can you guess it?\")\n",
    "\n",
    "while True:\n",
    "    \n",
    "    guess = int(input(\"Enter your guess: \"))\n",
    "    if guess < number_to_guess:\n",
    "        print(\"Too low! Try again.\")\n",
    "    elif guess > number_to_guess:\n",
    "        print(\"Too high! Try again.\")\n",
    "    else:\n",
    "        print(\"Congratulations! You guessed the correct number!\")\n",
    "        break"
   ]
  },
  {
   "cell_type": "code",
   "execution_count": null,
   "id": "d102fc3c-8564-406f-a5da-08c8d40012ad",
   "metadata": {},
   "outputs": [],
   "source": []
  }
 ],
 "metadata": {
  "kernelspec": {
   "display_name": "Python 3 (ipykernel)",
   "language": "python",
   "name": "python3"
  },
  "language_info": {
   "codemirror_mode": {
    "name": "ipython",
    "version": 3
   },
   "file_extension": ".py",
   "mimetype": "text/x-python",
   "name": "python",
   "nbconvert_exporter": "python",
   "pygments_lexer": "ipython3",
   "version": "3.12.4"
  }
 },
 "nbformat": 4,
 "nbformat_minor": 5
}
